{
 "cells": [
  {
   "cell_type": "code",
   "execution_count": 14,
   "metadata": {},
   "outputs": [],
   "source": [
    "%matplotlib inline\n",
    "\n",
    "import matplotlib.pyplot as plt\n",
    "import numpy as np\n",
    "import seaborn as sns\n",
    "from utils import decorate, savefig\n",
    "\n",
    "from scipy.signal import correlate2d\n",
    "from Cell2D import Cell2D, draw_array\n",
    "\n",
    "from matplotlib.colors import LinearSegmentedColormap\n",
    "import math\n"
   ]
  },
  {
   "cell_type": "code",
   "execution_count": 15,
   "metadata": {},
   "outputs": [],
   "source": [
    "def locs_where(condition):\n",
    "    \"\"\"Find cells where a logical array is True.\n",
    "    \n",
    "    condition: logical array\n",
    "    \n",
    "    returns: list of location tuples\n",
    "    \"\"\"\n",
    "    return list(zip(*np.nonzero(condition)))"
   ]
  },
  {
   "cell_type": "code",
   "execution_count": 65,
   "metadata": {},
   "outputs": [],
   "source": [
    "\n",
    "# make a custom color map\n",
    "palette = sns.color_palette('muted')\n",
    "colors = 'white', palette[1], palette[0], 'black'\n",
    "cmap = LinearSegmentedColormap.from_list('cmap', colors)\n",
    "\n",
    "\n",
    "class Schelling(Cell2D):\n",
    "    \"\"\"Represents a grid of Schelling agents.\"\"\"\n",
    "    \n",
    "    options = dict(mode='same', boundary='wrap')\n",
    "\n",
    "    kernel = np.array([[1, 1, 1],\n",
    "                       [1, 0, 1],\n",
    "                       [1, 1, 1]], dtype=np.int8)\n",
    "    \n",
    "    def __init__(self, n, p_r, p_b, p_school_r, p_school_b):\n",
    "        \"\"\"Initializes the attributes.\n",
    "\n",
    "        n: number of rows\n",
    "        p_w: threshold on the fraction of similar neighbors for red agents\n",
    "        p_r: threshold on the fraction of similar neighbors for blue agents\n",
    "        p_school_r: threshold on the fraction of similar schoolmates for red agents\n",
    "        p_school_b: threshold on the fraction of similar schoolmates for blue agents\n",
    "        \"\"\"\n",
    "        \n",
    "        self.n = n\n",
    "        \n",
    "        self.p_r = p_r\n",
    "        self.p_b = p_b\n",
    "        self.p_school_r = p_school_r\n",
    "        self.p_school_b = p_school_b\n",
    "        \n",
    "        # 0 is empty, 1 is red, 2 is blue, 3 is school\n",
    "        choices = np.array([0, 1, 2], dtype=np.int8)\n",
    "        probs = [0.1, 0.45, 0.45]\n",
    "        self.array = np.random.choice(choices, (n, n), p=probs)\n",
    "        \n",
    "        #add the schools, equally spaced throughout the grid\n",
    "        self.array[math.floor(n/4), math.floor(n/4)] = 3\n",
    "        self.array[math.floor(n/4), math.floor(3*n/4)] = 3\n",
    "        self.array[math.floor(3*n/4), math.floor(n/4)] = 3\n",
    "        self.array[math.floor(3*n/4), math.floor(3*n/4)] = 3\n",
    "        \n",
    "         # create an array where the value of each cell designates the district number of the cell\n",
    "        self.district = np.zeros((self.n, self.n))\n",
    "        \n",
    "        for i in range(self.n):\n",
    "            for j in range(self.n):\n",
    "                if i in range(math.floor(self.n/2)):\n",
    "                    if j in range(math.floor(self.n/2)):\n",
    "                        self.district[i][j] = 1\n",
    "                    else:\n",
    "                        self.district[i][j] = 3\n",
    "                else:\n",
    "                    if j in range(math.floor(self.n/2)):\n",
    "                        self.district[i][j] = 2\n",
    "                    else:\n",
    "                        self.district[i][j] = 4\n",
    "    \n",
    "\n",
    "    def count_neighbors(self):\n",
    "        \"\"\"Surveys neighboring cells.\n",
    "        \n",
    "        returns: tuple of\n",
    "            empty: True where cells are empty\n",
    "            school: True where there is a school\n",
    "            frac_red: fraction of red neighbors around each cell\n",
    "            frac_blue: fraction of blue neighbors around each cell\n",
    "            frac_same: fraction of neighbors with the same color\n",
    "        \"\"\"\n",
    "        a = self.array\n",
    "        \n",
    "        empty = a==0\n",
    "        red = a==1\n",
    "        blue = a==2\n",
    "        school = a==3\n",
    "\n",
    "        # count red neighbors, blue neighbors, and total\n",
    "        num_red = correlate2d(red, self.kernel, **self.options)\n",
    "        num_blue = correlate2d(blue, self.kernel, **self.options)\n",
    "        num_neighbors = num_red + num_blue\n",
    "\n",
    "        # compute fraction of similar neighbors\n",
    "        frac_red = num_red / num_neighbors\n",
    "        frac_blue = num_blue / num_neighbors\n",
    "        \n",
    "        # no neighbors is considered the same as no similar neighbors \n",
    "        # (this is an arbitrary choice for a rare event)\n",
    "        frac_red[num_neighbors == 0] = 0\n",
    "        frac_blue[num_neighbors == 0] = 0\n",
    "        \n",
    "        # for each cell, compute the fraction of neighbors with the same color\n",
    "        frac_same = np.where(red, frac_red, frac_blue)\n",
    "\n",
    "        # for empty cells, frac_same is NaN\n",
    "        frac_same[empty] = np.nan\n",
    "        frac_same[school] = np.nan\n",
    "        \n",
    "        return empty, school, frac_red, frac_blue, frac_same\n",
    "    \n",
    "    \n",
    "    def count_district(self):\n",
    "        \"\"\"Surveys cells within the same school district.\n",
    "        returns: tuple of\n",
    "            empty: True where cells are empty\n",
    "            school: True where there is a school\n",
    "            frac_red: fraction of red agents in the school district as the cell\n",
    "            frac_blue: fraction of blue agents in the school district as the cell\n",
    "            frac_same: fraction of agents with the same color in the school district as the cell\n",
    "        \"\"\"\n",
    "        \n",
    "        a = self.array\n",
    "        \n",
    "        empty = a==0\n",
    "        red = a==1\n",
    "        blue = a==2\n",
    "        school = a==3\n",
    "        \n",
    "        frac_red = np.zeros((self.n, self.n))\n",
    "        frac_blue = np.zeros((self.n, self.n))\n",
    "        \n",
    "        # iterate over all 4 districts\n",
    "        for dis_number in range(1,5):\n",
    "            # get array of cells that are red in this district\n",
    "            red_district = np.logical_and(red, self.district == dis_number)\n",
    "            \n",
    "            #count number of red agents in this district\n",
    "            num_red = np.count_nonzero(red_district)\n",
    "            \n",
    "            # put number of red neighbors in this district in each cell\n",
    "            num_red_array = np.where(self.district == dis_number, num_red, 0)\n",
    "            \n",
    "            # get array of cells that are blue in this district\n",
    "            blue_district = np.logical_and(blue, self.district == dis_number)\n",
    "            \n",
    "            #count number of blue agents in this district\n",
    "            num_blue = np.count_nonzero(blue_district)\n",
    "            \n",
    "            # put number of blue neighbors in this district in each cell\n",
    "            num_blue_array = np.where(self.district == dis_number, num_blue, 0)\n",
    "            \n",
    "            num_total = num_red + num_blue\n",
    "            \n",
    "            frac_red += num_red_array/num_total\n",
    "            frac_blue += num_blue_array/num_total\n",
    "            \n",
    "            #if there are no agents in the district, set frac to 0\n",
    "            frac_red[num_total == 0] = 0\n",
    "            frac_blue[num_total == 0] = 0\n",
    "        \n",
    "        frac_same = np.where(red, frac_red, frac_blue)\n",
    "\n",
    "        # for empty cells, frac_same is NaN\n",
    "        frac_same[empty] = np.nan\n",
    "        frac_same[school] = np.nan\n",
    "        \n",
    "        return empty, school, frac_red, frac_blue, frac_same\n",
    "\n",
    "    def segregation(self):\n",
    "        \"\"\"Computes the average fraction of similar neighbors.\n",
    "        \n",
    "        returns: fraction of similar neighbors, averaged over cells\n",
    "        \"\"\"\n",
    "        _, _, _, _, frac_same = self.count_neighbors()\n",
    "        return np.nanmean(frac_same)\n",
    "    \n",
    "    def step(self):\n",
    "        \"\"\"Executes one time step.\n",
    "                \n",
    "        returns: fraction of similar neighbors, averaged over cells\n",
    "        \"\"\"\n",
    "    \n",
    "        a = self.array\n",
    "        \n",
    "        red = a==1\n",
    "        blue = a==2\n",
    "        \n",
    "        empty, _, _, _, frac_same_nbhd = self.count_neighbors()\n",
    "        _, _, _, _, frac_same_district = self.count_district()\n",
    "        \n",
    "        # find the unhappy cells (ignore NaN in frac_same)\n",
    "        with np.errstate(invalid='ignore'):\n",
    "            #find cells unhappy with their neighborhood\n",
    "            unhappy_nbhd = np.logical_or(np.logical_and(frac_same_nbhd < self.p_r, red), np.logical_and(frac_same_nbhd < self.p_b, blue))\n",
    "            \n",
    "            #find cells unhappy with their school district\n",
    "            unhappy_district = np.logical_or(np.logical_and(frac_same_district < self.p_school_r, red), np.logical_and(frac_same_district < self.p_school_b, blue))\n",
    "            \n",
    "        #identify locations of cells that should move districts\n",
    "        move_district = np.logical_and(unhappy_nbhd, unhappy_district)\n",
    "        \n",
    "        #identify locations of cells that should move neighborhoods (stay in district)\n",
    "        move_nbhd = np.logical_and(unhappy_nbhd, np.logical_not(unhappy_district))\n",
    "        \n",
    "        move_nbhd_locs = locs_where(move_nbhd)\n",
    "        move_district_locs = locs_where(move_district)\n",
    "        \n",
    "        # find the empty cells\n",
    "        empty_locs = locs_where(empty)\n",
    "        \n",
    "        #get the district of origin of each agent that wants to move districts\n",
    "        orig_district = self.district[move_district_locs]\n",
    "        \n",
    "        # shuffle the unhappy cells\n",
    "        if len(move_district_locs):\n",
    "            np.random.shuffle(move_nbhd_locs)\n",
    "        \n",
    "        for index in range(len(move_district_locs)):\n",
    "            source = move_district_locs[index]\n",
    "            dis_num = orig_district[index]\n",
    "            \n",
    "            #TODO: for each cell in the orig_district array, generate a random district for the agent to go to (that is not the district they came from)\n",
    "            \n",
    "            # for each unhappy district cell, choose a random destination (but need to make sure the destination is not in the same district)\n",
    "            num_empty = np.sum(empty)\n",
    "            \n",
    "            i = np.random.randint(num_empty)\n",
    "            dest = empty_locs[i]\n",
    "            \n",
    "            # move\n",
    "            a[dest] = a[source]\n",
    "            a[source] = 0\n",
    "            empty_locs[i] = source\n",
    "        \n",
    "        # check that the number of empty cells is unchanged\n",
    "        num_empty2 = np.sum(a==0)\n",
    "        assert num_empty == num_empty2\n",
    "        \n",
    "        # return the average fraction of similar neighbors\n",
    "        return np.nanmean(frac_same)\n",
    "       \n",
    "    def draw(self):\n",
    "        \"\"\"Draws the cells.\"\"\"\n",
    "        return draw_array(self.array, cmap=cmap, vmax=3)"
   ]
  },
  {
   "cell_type": "code",
   "execution_count": 66,
   "metadata": {},
   "outputs": [
    {
     "data": {
      "text/plain": [
       "<matplotlib.image.AxesImage at 0x7fa7ecb3d8d0>"
      ]
     },
     "execution_count": 66,
     "metadata": {},
     "output_type": "execute_result"
    },
    {
     "data": {
      "image/png": "[encoded data removed]",
      "text/plain": [
       "<Figure size 432x288 with 1 Axes>"
      ]
     },
     "metadata": {},
     "output_type": "display_data"
    }
   ],
   "source": [
    "grid = Schelling(n=10, p_r = 0.4, p_b = 0.7, p_school_r = 0.4, p_school_b = 0.7)\n",
    "\n",
    "a = grid.count_district()\n",
    "grid.draw()"
   ]
  },
  {
   "cell_type": "code",
   "execution_count": 47,
   "metadata": {},
   "outputs": [
    {
     "data": {
      "image/png": "[encoded data removed]",
      "text/plain": [
       "<Figure size 432x288 with 1 Axes>"
      ]
     },
     "metadata": {},
     "output_type": "display_data"
    }
   ],
   "source": [
    "grid = Schelling(n=100, p=0.3)\n",
    "grid.animate(frames=30, interval=0.1)"
   ]
  },
  {
   "cell_type": "code",
   "execution_count": 48,
   "metadata": {},
   "outputs": [
    {
     "data": {
      "image/png": "[encoded data removed]",
      "text/plain": [
       "<Figure size 720x288 with 3 Axes>"
      ]
     },
     "metadata": {},
     "output_type": "display_data"
    }
   ],
   "source": [
    "from utils import three_frame\n",
    "\n",
    "grid = Schelling(n=100, p=0.3)\n",
    "three_frame(grid, [0, 2, 8])\n"
   ]
  },
  {
   "cell_type": "code",
   "execution_count": 16,
   "metadata": {},
   "outputs": [],
   "source": [
    "a = np.array([1, 2, 3, 4, 1])"
   ]
  },
  {
   "cell_type": "code",
   "execution_count": 17,
   "metadata": {},
   "outputs": [],
   "source": [
    "b = np.array(['a', 'b', 'a', 'b', 'a'])"
   ]
  },
  {
   "cell_type": "code",
   "execution_count": 21,
   "metadata": {},
   "outputs": [],
   "source": [
    "c = (a == 1)\n",
    "d = b == 'a'"
   ]
  },
  {
   "cell_type": "code",
   "execution_count": 35,
   "metadata": {},
   "outputs": [
    {
     "data": {
      "text/plain": [
       "array([ True, False, False, False,  True])"
      ]
     },
     "execution_count": 35,
     "metadata": {},
     "output_type": "execute_result"
    }
   ],
   "source": [
    "final = np.logical_and(c ,d)\n",
    "final"
   ]
  },
  {
   "cell_type": "code",
   "execution_count": 36,
   "metadata": {},
   "outputs": [],
   "source": [
    "a = [4 if cell == True else 0 for cell in final]"
   ]
  },
  {
   "cell_type": "code",
   "execution_count": 37,
   "metadata": {},
   "outputs": [
    {
     "data": {
      "text/plain": [
       "[4, 0, 0, 0, 4]"
      ]
     },
     "execution_count": 37,
     "metadata": {},
     "output_type": "execute_result"
    }
   ],
   "source": [
    "a"
   ]
  },
  {
   "cell_type": "code",
   "execution_count": 3,
   "metadata": {},
   "outputs": [],
   "source": [
    "k = np.array([[1, 1, 1],\n",
    "                       [1, 0, 1],\n",
    "                       [1, 1, 1]], dtype=np.int8)"
   ]
  },
  {
   "cell_type": "code",
   "execution_count": 30,
   "metadata": {},
   "outputs": [],
   "source": [
    "from scipy.signal import correlate2d\n",
    "r = np.array([[0, 1, 0], [1, 1, 0], [1, 1, 0]], dtype=np.int8)\n",
    "b = np.array([[0, 0, 1], [0, 0, 1], [0, 0, 1]], dtype=np.int8)\n",
    "options = dict(mode='same', boundary='wrap')\n",
    "num_r = correlate2d(r, k, **options)\n",
    "num_b = correlate2d(b, k, **options)\n",
    "\n",
    "num_total = num_r + num_b\n",
    "\n",
    "frac_r = num_r/num_total\n",
    "frac_b = num_b/num_total"
   ]
  },
  {
   "cell_type": "code",
   "execution_count": 34,
   "metadata": {},
   "outputs": [
    {
     "data": {
      "text/plain": [
       "array([[5, 4, 5],\n",
       "       [4, 4, 5],\n",
       "       [4, 4, 5]], dtype=int8)"
      ]
     },
     "execution_count": 34,
     "metadata": {},
     "output_type": "execute_result"
    }
   ],
   "source": [
    "num_r"
   ]
  },
  {
   "cell_type": "code",
   "execution_count": 32,
   "metadata": {},
   "outputs": [
    {
     "data": {
      "text/plain": [
       "array([[0.625     , 0.57142857, 0.71428571],\n",
       "       [0.57142857, 0.57142857, 0.71428571],\n",
       "       [0.57142857, 0.57142857, 0.71428571]])"
      ]
     },
     "execution_count": 32,
     "metadata": {},
     "output_type": "execute_result"
    }
   ],
   "source": [
    "frac_r"
   ]
  },
  {
   "cell_type": "code",
   "execution_count": 33,
   "metadata": {},
   "outputs": [
    {
     "data": {
      "text/plain": [
       "array([[8, 7, 7],\n",
       "       [7, 7, 7],\n",
       "       [7, 7, 7]], dtype=int8)"
      ]
     },
     "execution_count": 33,
     "metadata": {},
     "output_type": "execute_result"
    }
   ],
   "source": [
    "num_total"
   ]
  },
  {
   "cell_type": "code",
   "execution_count": 87,
   "metadata": {},
   "outputs": [
    {
     "data": {
      "text/plain": [
       "array([8, 7], dtype=int8)"
      ]
     },
     "execution_count": 87,
     "metadata": {},
     "output_type": "execute_result"
    }
   ],
   "source": [
    "num_total[(0,0),(0,1)]"
   ]
  },
  {
   "cell_type": "code",
   "execution_count": null,
   "metadata": {},
   "outputs": [],
   "source": []
  }
 ],
 "metadata": {
  "kernelspec": {
   "display_name": "Python 3",
   "language": "python",
   "name": "python3"
  },
  "language_info": {
   "codemirror_mode": {
    "name": "ipython",
    "version": 3
   },
   "file_extension": ".py",
   "mimetype": "text/x-python",
   "name": "python",
   "nbconvert_exporter": "python",
   "pygments_lexer": "ipython3",
   "version": "3.7.4"
  }
 },
 "nbformat": 4,
 "nbformat_minor": 2
}
